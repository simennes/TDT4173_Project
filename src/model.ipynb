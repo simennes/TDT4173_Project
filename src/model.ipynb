{
 "cells": [
  {
   "cell_type": "code",
   "execution_count": 1,
   "metadata": {},
   "outputs": [
    {
     "name": "stdout",
     "output_type": "stream",
     "text": [
      "hei\n"
     ]
    }
   ],
   "source": [
    "# open and unzip file to a pandas dataframe\n",
    "import zipfile\n",
    "import pandas as pd\n",
    "\n",
    "def open_zip(zip_file):\n",
    "    with zipfile.ZipFile(zip_file) as z:\n",
    "        for filename in z.namelist():\n",
    "            with z.open(filename) as f:\n",
    "                df = pd.read_csv(f)\n",
    "    return df\n"
   ]
  }
 ],
 "metadata": {
  "kernelspec": {
   "display_name": "Python 3",
   "language": "python",
   "name": "python3"
  },
  "language_info": {
   "codemirror_mode": {
    "name": "ipython",
    "version": 3
   },
   "file_extension": ".py",
   "mimetype": "text/x-python",
   "name": "python",
   "nbconvert_exporter": "python",
   "pygments_lexer": "ipython3",
   "version": "3.11.0"
  }
 },
 "nbformat": 4,
 "nbformat_minor": 2
}
